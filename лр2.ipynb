{
  "nbformat": 4,
  "nbformat_minor": 0,
  "metadata": {
    "colab": {
      "provenance": [],
      "authorship_tag": "ABX9TyOod+hi6JtqRA3azzlT2yxz",
      "include_colab_link": true
    },
    "kernelspec": {
      "name": "python3",
      "display_name": "Python 3"
    },
    "language_info": {
      "name": "python"
    }
  },
  "cells": [
    {
      "cell_type": "markdown",
      "metadata": {
        "id": "view-in-github",
        "colab_type": "text"
      },
      "source": [
        "<a href=\"https://colab.research.google.com/github/alleyezonme1/mylabs1/blob/main/%D0%BB%D1%802.ipynb\" target=\"_parent\"><img src=\"https://colab.research.google.com/assets/colab-badge.svg\" alt=\"Open In Colab\"/></a>"
      ]
    },
    {
      "cell_type": "code",
      "source": [
        "\n",
        "import overpass\n",
        "import matplotlib.cm as cm\n",
        "import matplotlib.colors as colors\n",
        "import networkx as nx\n",
        "import osmnx as ox\n",
        "import pandas as pd\n",
        "\n",
        "# Указываем город\n",
        "place_name = \"Ufa, Russia\"\n",
        "\n",
        "# Запрос для получения кафе\n",
        "tags = {'amenity': 'cafe'}\n",
        "cafes = ox.geometries_from_place(place_name, tags)\n",
        "\n",
        "# Сохраняем данные о кафе в GeoDataFrame\n",
        "gdf_cafes = gpd.GeoDataFrame(cafes)\n",
        "\n",
        "# Визуализация кафе\n",
        "ox.plot_graph(ox.graph_from_place(place_name, network_type='drive'), bgcolor='k', node_size=0, edge_color='w')\n",
        "gdf_cafes.plot(marker='o', color='red', markersize=10, alpha=0.7)\n",
        "\n",
        "# Сохранение GeoDataFrame в файл GeoJSON\n",
        "gdf_cafes.to_file(\"cafes.geojson\",\n",
        "\n",
        "# Указываем город (в данном случае, Уфа)\n",
        "place_name = \"Ufa, Russia\"\n",
        "\n",
        "overpass_query = f\"\"\"\n",
        "    area[name=\"{place_name}\"]->.searchArea;\n",
        "    (\n",
        "      node[\"amenity\"=\"cafe\"](area.searchArea);\n",
        "      way[\"amenity\"=\"cafe\"](area.searchArea);\n",
        "      relation[\"amenity\"=\"cafe\"](area.searchArea);\n",
        "    );\n",
        "    out center;\n",
        "    \"\"\"\n",
        "api = overpass.API()\n",
        "cafes = api.get(overpass_query, responseformat=\"geojson\")\n",
        "\n",
        "G = ox.graph_from_place('Piedmont, California', network_type='drive')\n",
        "G = ox.project_graph(G)\n",
        "\n",
        "fig, ax = ox.plot_graph(G, bgcolor='k', node_size=30, node_color='#999999', node_edgecolor='none', node_zorder=2,\n",
        "                        edge_color='#555555', edge_linewidth=1.5, edge_alpha=1)\n",
        "\n",
        "node_centrality = nx.closeness_centrality(G)\n",
        "\n",
        "df = pd.DataFrame(data=pd.Series(node_centrality).sort_values(), columns=['cc'])\n",
        "df['colors'] = ox.get_colors(n=len(df), cmap='inferno', start=0.2)\n",
        "df = df.reindex(G.nodes())\n",
        "nc = df['colors'].tolist()\n",
        "fig, ax = ox.plot_graph(G, bgcolor='k', node_size=30, node_color=nc, node_edgecolor='none', node_zorder=2,\n",
        "                        edge_color='#555555', edge_linewidth=1.5, edge_alpha=1)\n",
        "\n",
        "edge_centrality = nx.closeness_centrality(nx.line_graph(G))\n",
        "ev = [edge_centrality[edge + (0,)] for edge in G.edges()]\n",
        "\n",
        "norm = colors.Normalize(vmin=min(ev) * 0.8, vmax=max(ev))\n",
        "cmap = cm.ScalarMappable(norm=norm, cmap=cm.inferno)\n",
        "ec = [cmap.to_rgba(cl) for cl in ev]\n",
        "\n",
        "fig, ax = ox.plot_graph(G, bgcolor='k', axis_off=True, node_size=0, node_color='w', node_edgecolor='gray', node_zorder=2,\n",
        "                        edge_color=ec, edge_linewidth=1.5, edge_alpha=1)\n",
        "\n",
        "nx.set_node_attributes(G, node_centrality, 'node_centrality')\n",
        "nx.set_edge_attributes(G, edge_centrality, 'edge_centrality')\n",
        "ox.save_graph_shapefile(G)\n",
        "\n",
        "\n",
        "driver=\"GeoJSON\")"
      ],
      "metadata": {
        "id": "hHP9Ory66cfn"
      },
      "execution_count": null,
      "outputs": []
    }
  ]
}